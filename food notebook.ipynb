{
 "cells": [
  {
   "cell_type": "code",
   "execution_count": 19,
   "metadata": {},
   "outputs": [],
   "source": [
    "import pandas as pd\n",
    "import matplotlib.pyplot as plt"
   ]
  },
  {
   "cell_type": "code",
   "execution_count": 20,
   "metadata": {},
   "outputs": [
    {
     "data": {
      "text/html": [
       "<div>\n",
       "<style scoped>\n",
       "    .dataframe tbody tr th:only-of-type {\n",
       "        vertical-align: middle;\n",
       "    }\n",
       "\n",
       "    .dataframe tbody tr th {\n",
       "        vertical-align: top;\n",
       "    }\n",
       "\n",
       "    .dataframe thead th {\n",
       "        text-align: right;\n",
       "    }\n",
       "</style>\n",
       "<table border=\"1\" class=\"dataframe\">\n",
       "  <thead>\n",
       "    <tr style=\"text-align: right;\">\n",
       "      <th></th>\n",
       "      <th>item</th>\n",
       "      <th>cost</th>\n",
       "      <th>calories per serving</th>\n",
       "      <th>servings left</th>\n",
       "      <th>week</th>\n",
       "      <th>cost per serving</th>\n",
       "    </tr>\n",
       "  </thead>\n",
       "  <tbody>\n",
       "    <tr>\n",
       "      <th>0</th>\n",
       "      <td>Butter</td>\n",
       "      <td>4.0</td>\n",
       "      <td>100</td>\n",
       "      <td>32</td>\n",
       "      <td>1</td>\n",
       "      <td>0.125</td>\n",
       "    </tr>\n",
       "    <tr>\n",
       "      <th>1</th>\n",
       "      <td>Condiments</td>\n",
       "      <td>10.0</td>\n",
       "      <td>1</td>\n",
       "      <td>1</td>\n",
       "      <td>1</td>\n",
       "      <td>10.000</td>\n",
       "    </tr>\n",
       "    <tr>\n",
       "      <th>2</th>\n",
       "      <td>Rice</td>\n",
       "      <td>6.0</td>\n",
       "      <td>160</td>\n",
       "      <td>46</td>\n",
       "      <td>1</td>\n",
       "      <td>0.120</td>\n",
       "    </tr>\n",
       "    <tr>\n",
       "      <th>3</th>\n",
       "      <td>Condiments</td>\n",
       "      <td>10.0</td>\n",
       "      <td>90</td>\n",
       "      <td>8</td>\n",
       "      <td>2</td>\n",
       "      <td>0.100</td>\n",
       "    </tr>\n",
       "    <tr>\n",
       "      <th>4</th>\n",
       "      <td>Marco &amp; Lucas</td>\n",
       "      <td>30.0</td>\n",
       "      <td>500</td>\n",
       "      <td>10</td>\n",
       "      <td>5</td>\n",
       "      <td>3.000</td>\n",
       "    </tr>\n",
       "  </tbody>\n",
       "</table>\n",
       "</div>"
      ],
      "text/plain": [
       "            item   cost   calories per serving   servings left   week  \\\n",
       "0         Butter    4.0                    100              32      1   \n",
       "1     Condiments   10.0                      1               1      1   \n",
       "2           Rice    6.0                    160              46      1   \n",
       "3     Condiments   10.0                     90               8      2   \n",
       "4  Marco & Lucas   30.0                    500              10      5   \n",
       "\n",
       "    cost per serving  \n",
       "0              0.125  \n",
       "1             10.000  \n",
       "2              0.120  \n",
       "3              0.100  \n",
       "4              3.000  "
      ]
     },
     "execution_count": 20,
     "metadata": {},
     "output_type": "execute_result"
    }
   ],
   "source": [
    "# Current Food\n",
    "current_food = pd.read_csv('current food.csv')\n",
    "current_food.head(5)"
   ]
  },
  {
   "cell_type": "code",
   "execution_count": 21,
   "metadata": {},
   "outputs": [
    {
     "data": {
      "text/html": [
       "<div>\n",
       "<style scoped>\n",
       "    .dataframe tbody tr th:only-of-type {\n",
       "        vertical-align: middle;\n",
       "    }\n",
       "\n",
       "    .dataframe tbody tr th {\n",
       "        vertical-align: top;\n",
       "    }\n",
       "\n",
       "    .dataframe thead th {\n",
       "        text-align: right;\n",
       "    }\n",
       "</style>\n",
       "<table border=\"1\" class=\"dataframe\">\n",
       "  <thead>\n",
       "    <tr style=\"text-align: right;\">\n",
       "      <th></th>\n",
       "      <th>item</th>\n",
       "      <th>cost</th>\n",
       "      <th>week</th>\n",
       "    </tr>\n",
       "  </thead>\n",
       "  <tbody>\n",
       "    <tr>\n",
       "      <th>0</th>\n",
       "      <td>boba</td>\n",
       "      <td>10.0</td>\n",
       "      <td>1</td>\n",
       "    </tr>\n",
       "    <tr>\n",
       "      <th>1</th>\n",
       "      <td>Sandwiches</td>\n",
       "      <td>0.1</td>\n",
       "      <td>1</td>\n",
       "    </tr>\n",
       "    <tr>\n",
       "      <th>2</th>\n",
       "      <td>strip steak</td>\n",
       "      <td>8.0</td>\n",
       "      <td>1</td>\n",
       "    </tr>\n",
       "    <tr>\n",
       "      <th>3</th>\n",
       "      <td>pizza</td>\n",
       "      <td>5.0</td>\n",
       "      <td>1</td>\n",
       "    </tr>\n",
       "    <tr>\n",
       "      <th>4</th>\n",
       "      <td>Paffles</td>\n",
       "      <td>10.0</td>\n",
       "      <td>1</td>\n",
       "    </tr>\n",
       "  </tbody>\n",
       "</table>\n",
       "</div>"
      ],
      "text/plain": [
       "          item   cost   week\n",
       "0         boba   10.0      1\n",
       "1   Sandwiches    0.1      1\n",
       "2  strip steak    8.0      1\n",
       "3        pizza    5.0      1\n",
       "4      Paffles   10.0      1"
      ]
     },
     "execution_count": 21,
     "metadata": {},
     "output_type": "execute_result"
    }
   ],
   "source": [
    "# Ate Out\n",
    "ate_out = pd.read_csv('ate out.csv')\n",
    "ate_out.head(5)"
   ]
  },
  {
   "attachments": {},
   "cell_type": "markdown",
   "metadata": {},
   "source": [
    "### Budgeting"
   ]
  },
  {
   "cell_type": "code",
   "execution_count": 22,
   "metadata": {},
   "outputs": [
    {
     "name": "stdout",
     "output_type": "stream",
     "text": [
      "Week 1: $11.11 left\n",
      "Week 2: $-31.24 left\n",
      "Week 3: $-5.52 left\n",
      "Week 4: $20.61 left\n",
      "Week 5: $40.58 left\n",
      "Week 6: $80.0 left\n"
     ]
    },
    {
     "data": {
      "text/plain": [
       "<matplotlib.lines.Line2D at 0x17c9c5c3910>"
      ]
     },
     "execution_count": 22,
     "metadata": {},
     "output_type": "execute_result"
    },
    {
     "data": {
      "image/png": "[encoded data removed]",
      "text/plain": [
       "<Figure size 640x480 with 1 Axes>"
      ]
     },
     "metadata": {},
     "output_type": "display_data"
    }
   ],
   "source": [
    "# Concat Current Food and Ate Out\n",
    "food = pd.concat([current_food, ate_out], ignore_index=True, axis = 0)\n",
    "\n",
    "# Plot Food Spent Per Week\n",
    "food.groupby(' week')[' cost'].sum().plot(kind='bar')\n",
    "weekly = food.groupby(' week')[' cost'].sum()\n",
    "\n",
    "# Print Amount Under Budget\n",
    "budget = 100\n",
    "for i in range(1, len(weekly)+1):\n",
    "    result = round(budget - weekly[i], 2)\n",
    "    print(\"Week \" + str(i) + \": $\" + str(result) + \" left\")\n",
    "\n",
    "# horizontal line\n",
    "plt.axhline(y=100, color='r', linestyle='-')"
   ]
  },
  {
   "attachments": {},
   "cell_type": "markdown",
   "metadata": {},
   "source": [
    "### Calories"
   ]
  },
  {
   "cell_type": "code",
   "execution_count": 23,
   "metadata": {},
   "outputs": [
    {
     "data": {
      "text/plain": [
       " week\n",
       "1    10561.0\n",
       "2      720.0\n",
       "3     3660.0\n",
       "4     3580.0\n",
       "5     5000.0\n",
       "Name: calories, dtype: float64"
      ]
     },
     "execution_count": 23,
     "metadata": {},
     "output_type": "execute_result"
    }
   ],
   "source": [
    "food['calories'] = food[' calories per serving'] * food[' servings left']\n",
    "food.groupby(' week')['calories'].sum().head(5)\n"
   ]
  },
  {
   "cell_type": "code",
   "execution_count": 24,
   "metadata": {},
   "outputs": [
    {
     "data": {
      "text/html": [
       "<div>\n",
       "<style scoped>\n",
       "    .dataframe tbody tr th:only-of-type {\n",
       "        vertical-align: middle;\n",
       "    }\n",
       "\n",
       "    .dataframe tbody tr th {\n",
       "        vertical-align: top;\n",
       "    }\n",
       "\n",
       "    .dataframe thead th {\n",
       "        text-align: right;\n",
       "    }\n",
       "</style>\n",
       "<table border=\"1\" class=\"dataframe\">\n",
       "  <thead>\n",
       "    <tr style=\"text-align: right;\">\n",
       "      <th></th>\n",
       "      <th>item</th>\n",
       "      <th>cost</th>\n",
       "      <th>calories per serving</th>\n",
       "      <th>servings left</th>\n",
       "      <th>week</th>\n",
       "      <th>cost per serving</th>\n",
       "      <th>calories</th>\n",
       "    </tr>\n",
       "  </thead>\n",
       "  <tbody>\n",
       "    <tr>\n",
       "      <th>2</th>\n",
       "      <td>Rice</td>\n",
       "      <td>6.00</td>\n",
       "      <td>160.0</td>\n",
       "      <td>46.0</td>\n",
       "      <td>1</td>\n",
       "      <td>0.120000</td>\n",
       "      <td>7360.0</td>\n",
       "    </tr>\n",
       "    <tr>\n",
       "      <th>4</th>\n",
       "      <td>Marco &amp; Lucas</td>\n",
       "      <td>30.00</td>\n",
       "      <td>500.0</td>\n",
       "      <td>10.0</td>\n",
       "      <td>5</td>\n",
       "      <td>3.000000</td>\n",
       "      <td>5000.0</td>\n",
       "    </tr>\n",
       "    <tr>\n",
       "      <th>17</th>\n",
       "      <td>Beef Ramen</td>\n",
       "      <td>5.00</td>\n",
       "      <td>340.0</td>\n",
       "      <td>11.0</td>\n",
       "      <td>6</td>\n",
       "      <td>0.416667</td>\n",
       "      <td>3740.0</td>\n",
       "    </tr>\n",
       "    <tr>\n",
       "      <th>0</th>\n",
       "      <td>Butter</td>\n",
       "      <td>4.00</td>\n",
       "      <td>100.0</td>\n",
       "      <td>32.0</td>\n",
       "      <td>1</td>\n",
       "      <td>0.125000</td>\n",
       "      <td>3200.0</td>\n",
       "    </tr>\n",
       "    <tr>\n",
       "      <th>7</th>\n",
       "      <td>Caprisun</td>\n",
       "      <td>8.00</td>\n",
       "      <td>100.0</td>\n",
       "      <td>13.0</td>\n",
       "      <td>3</td>\n",
       "      <td>0.400000</td>\n",
       "      <td>1300.0</td>\n",
       "    </tr>\n",
       "    <tr>\n",
       "      <th>11</th>\n",
       "      <td>Potatoes</td>\n",
       "      <td>5.99</td>\n",
       "      <td>160.0</td>\n",
       "      <td>8.0</td>\n",
       "      <td>4</td>\n",
       "      <td>0.544545</td>\n",
       "      <td>1280.0</td>\n",
       "    </tr>\n",
       "    <tr>\n",
       "      <th>13</th>\n",
       "      <td>Eggs</td>\n",
       "      <td>2.00</td>\n",
       "      <td>100.0</td>\n",
       "      <td>11.0</td>\n",
       "      <td>4</td>\n",
       "      <td>0.166667</td>\n",
       "      <td>1100.0</td>\n",
       "    </tr>\n",
       "    <tr>\n",
       "      <th>14</th>\n",
       "      <td>Flour Tortillas</td>\n",
       "      <td>2.00</td>\n",
       "      <td>100.0</td>\n",
       "      <td>10.0</td>\n",
       "      <td>4</td>\n",
       "      <td>0.100000</td>\n",
       "      <td>1000.0</td>\n",
       "    </tr>\n",
       "    <tr>\n",
       "      <th>9</th>\n",
       "      <td>Beef Yakisoba</td>\n",
       "      <td>3.00</td>\n",
       "      <td>500.0</td>\n",
       "      <td>2.0</td>\n",
       "      <td>3</td>\n",
       "      <td>1.000000</td>\n",
       "      <td>1000.0</td>\n",
       "    </tr>\n",
       "    <tr>\n",
       "      <th>16</th>\n",
       "      <td>Beef</td>\n",
       "      <td>5.00</td>\n",
       "      <td>220.0</td>\n",
       "      <td>4.0</td>\n",
       "      <td>6</td>\n",
       "      <td>1.250000</td>\n",
       "      <td>880.0</td>\n",
       "    </tr>\n",
       "  </tbody>\n",
       "</table>\n",
       "</div>"
      ],
      "text/plain": [
       "               item   cost   calories per serving   servings left   week  \\\n",
       "2              Rice   6.00                  160.0            46.0      1   \n",
       "4     Marco & Lucas  30.00                  500.0            10.0      5   \n",
       "17       Beef Ramen   5.00                  340.0            11.0      6   \n",
       "0            Butter   4.00                  100.0            32.0      1   \n",
       "7          Caprisun   8.00                  100.0            13.0      3   \n",
       "11         Potatoes   5.99                  160.0             8.0      4   \n",
       "13             Eggs   2.00                  100.0            11.0      4   \n",
       "14  Flour Tortillas   2.00                  100.0            10.0      4   \n",
       "9     Beef Yakisoba   3.00                  500.0             2.0      3   \n",
       "16             Beef   5.00                  220.0             4.0      6   \n",
       "\n",
       "     cost per serving  calories  \n",
       "2            0.120000    7360.0  \n",
       "4            3.000000    5000.0  \n",
       "17           0.416667    3740.0  \n",
       "0            0.125000    3200.0  \n",
       "7            0.400000    1300.0  \n",
       "11           0.544545    1280.0  \n",
       "13           0.166667    1100.0  \n",
       "14           0.100000    1000.0  \n",
       "9            1.000000    1000.0  \n",
       "16           1.250000     880.0  "
      ]
     },
     "execution_count": 24,
     "metadata": {},
     "output_type": "execute_result"
    }
   ],
   "source": [
    "food.sort_values(by = 'calories', ascending=False).head(10)"
   ]
  },
  {
   "cell_type": "code",
   "execution_count": 25,
   "metadata": {},
   "outputs": [
    {
     "data": {
      "text/html": [
       "<div>\n",
       "<style scoped>\n",
       "    .dataframe tbody tr th:only-of-type {\n",
       "        vertical-align: middle;\n",
       "    }\n",
       "\n",
       "    .dataframe tbody tr th {\n",
       "        vertical-align: top;\n",
       "    }\n",
       "\n",
       "    .dataframe thead th {\n",
       "        text-align: right;\n",
       "    }\n",
       "</style>\n",
       "<table border=\"1\" class=\"dataframe\">\n",
       "  <thead>\n",
       "    <tr style=\"text-align: right;\">\n",
       "      <th>day</th>\n",
       "      <th>0</th>\n",
       "      <th>1</th>\n",
       "      <th>2</th>\n",
       "      <th>3</th>\n",
       "      <th>4</th>\n",
       "      <th>5</th>\n",
       "      <th>6</th>\n",
       "    </tr>\n",
       "    <tr>\n",
       "      <th>week</th>\n",
       "      <th></th>\n",
       "      <th></th>\n",
       "      <th></th>\n",
       "      <th></th>\n",
       "      <th></th>\n",
       "      <th></th>\n",
       "      <th></th>\n",
       "    </tr>\n",
       "  </thead>\n",
       "  <tbody>\n",
       "    <tr>\n",
       "      <th>1</th>\n",
       "      <td>NaN</td>\n",
       "      <td>2900.0</td>\n",
       "      <td>1960.0</td>\n",
       "      <td>2070.0</td>\n",
       "      <td>2330.0</td>\n",
       "      <td>2600.0</td>\n",
       "      <td>1800.0</td>\n",
       "    </tr>\n",
       "    <tr>\n",
       "      <th>2</th>\n",
       "      <td>2130.0</td>\n",
       "      <td>2000.0</td>\n",
       "      <td>2580.0</td>\n",
       "      <td>2800.0</td>\n",
       "      <td>3031.0</td>\n",
       "      <td>2100.0</td>\n",
       "      <td>2470.0</td>\n",
       "    </tr>\n",
       "    <tr>\n",
       "      <th>3</th>\n",
       "      <td>2390.0</td>\n",
       "      <td>2590.0</td>\n",
       "      <td>2800.0</td>\n",
       "      <td>2140.0</td>\n",
       "      <td>2220.0</td>\n",
       "      <td>1820.0</td>\n",
       "      <td>2000.0</td>\n",
       "    </tr>\n",
       "    <tr>\n",
       "      <th>4</th>\n",
       "      <td>1890.0</td>\n",
       "      <td>1960.0</td>\n",
       "      <td>2090.0</td>\n",
       "      <td>1890.0</td>\n",
       "      <td>2150.0</td>\n",
       "      <td>1720.0</td>\n",
       "      <td>2200.0</td>\n",
       "    </tr>\n",
       "    <tr>\n",
       "      <th>5</th>\n",
       "      <td>2050.0</td>\n",
       "      <td>1850.0</td>\n",
       "      <td>1650.0</td>\n",
       "      <td>2110.0</td>\n",
       "      <td>1810.0</td>\n",
       "      <td>NaN</td>\n",
       "      <td>NaN</td>\n",
       "    </tr>\n",
       "  </tbody>\n",
       "</table>\n",
       "</div>"
      ],
      "text/plain": [
       " day        0       1       2       3       4       5       6\n",
       " week                                                        \n",
       "1         NaN  2900.0  1960.0  2070.0  2330.0  2600.0  1800.0\n",
       "2      2130.0  2000.0  2580.0  2800.0  3031.0  2100.0  2470.0\n",
       "3      2390.0  2590.0  2800.0  2140.0  2220.0  1820.0  2000.0\n",
       "4      1890.0  1960.0  2090.0  1890.0  2150.0  1720.0  2200.0\n",
       "5      2050.0  1850.0  1650.0  2110.0  1810.0     NaN     NaN"
      ]
     },
     "execution_count": 25,
     "metadata": {},
     "output_type": "execute_result"
    },
    {
     "data": {
      "image/png": "[encoded data removed]",
      "text/plain": [
       "<Figure size 640x480 with 1 Axes>"
      ]
     },
     "metadata": {},
     "output_type": "display_data"
    }
   ],
   "source": [
    "consumption = pd.read_csv('consumption.csv')\n",
    "consumption.head(5)\n",
    "\n",
    "import numpy as np\n",
    "# pivot table of week and day\n",
    "pivot = pd.pivot_table(consumption, values=' calories', index=[' week'],\n",
    "                    columns=[' day'], aggfunc=np.sum)\n",
    "\n",
    "# Plot Bar\n",
    "pivot.plot(kind='bar')\n",
    "\n",
    "#horizontal line at 2000\n",
    "plt.axhline(y=2000, color='r', linestyle='-')\n",
    "\n",
    "pivot.head(5)"
   ]
  },
  {
   "attachments": {},
   "cell_type": "markdown",
   "metadata": {},
   "source": [
    "### Master Plot"
   ]
  },
  {
   "cell_type": "code",
   "execution_count": 26,
   "metadata": {},
   "outputs": [
    {
     "data": {
      "text/plain": [
       "<matplotlib.lines.Line2D at 0x17c9ca44430>"
      ]
     },
     "execution_count": 26,
     "metadata": {},
     "output_type": "execute_result"
    },
    {
     "data": {
      "image/png": "[encoded data removed]",
      "text/plain": [
       "<Figure size 1000x1000 with 2 Axes>"
      ]
     },
     "metadata": {},
     "output_type": "display_data"
    }
   ],
   "source": [
    "fig, ax = plt.subplots(2, 1, figsize=(10, 10))\n",
    "\n",
    "# Plot Food Spent Per Week\n",
    "food.groupby(' week')[' cost'].sum().plot(kind='bar', ax=ax[0])\n",
    "ax[0].axhline(y=100, color='r', linestyle='-')\n",
    "\n",
    "# Plot Calories Per Week\n",
    "pivot.plot(kind='bar', ax=ax[1])\n",
    "ax[1].axhline(y=2000, color='r', linestyle='-')"
   ]
  }
 ],
 "metadata": {
  "kernelspec": {
   "display_name": "Python 3",
   "language": "python",
   "name": "python3"
  },
  "language_info": {
   "codemirror_mode": {
    "name": "ipython",
    "version": 3
   },
   "file_extension": ".py",
   "mimetype": "text/x-python",
   "name": "python",
   "nbconvert_exporter": "python",
   "pygments_lexer": "ipython3",
   "version": "3.10.8"
  },
  "orig_nbformat": 4
 },
 "nbformat": 4,
 "nbformat_minor": 2
}
